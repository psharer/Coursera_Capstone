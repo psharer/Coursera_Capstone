{
 "cells": [
  {
   "cell_type": "code",
   "execution_count": 1,
   "metadata": {
    "scrolled": false
   },
   "outputs": [
    {
     "name": "stdout",
     "output_type": "stream",
     "text": [
      "Collecting package metadata (current_repodata.json): ...working... done\n",
      "Solving environment: ...working... done\n",
      "\n",
      "## Package Plan ##\n",
      "\n",
      "  environment location: C:\\Users\\psharer\\anaconda3\n",
      "\n",
      "  added / updated specs:\n",
      "    - geopy\n",
      "\n",
      "\n",
      "The following packages will be downloaded:\n",
      "\n",
      "    package                    |            build\n",
      "    ---------------------------|-----------------\n",
      "    geopy-2.1.0                |     pyhd3deb0d_0          64 KB  conda-forge\n",
      "    ------------------------------------------------------------\n",
      "                                           Total:          64 KB\n",
      "\n",
      "The following packages will be UPDATED:\n",
      "\n",
      "  geopy                                  2.0.0-pyh9f0ad1d_0 --> 2.1.0-pyhd3deb0d_0\n",
      "\n",
      "\n",
      "\n",
      "Downloading and Extracting Packages\n",
      "\n",
      "geopy-2.1.0          | 64 KB     |            |   0% \n",
      "geopy-2.1.0          | 64 KB     | ##5        |  25% \n",
      "geopy-2.1.0          | 64 KB     | ########## | 100% \n",
      "geopy-2.1.0          | 64 KB     | ########## | 100% \n",
      "Preparing transaction: ...working... done\n",
      "Verifying transaction: ...working... done\n",
      "Executing transaction: ...working... done\n"
     ]
    }
   ],
   "source": [
    "!conda install -c conda-forge geopy --yes"
   ]
  },
  {
   "cell_type": "code",
   "execution_count": 2,
   "metadata": {
    "scrolled": true
   },
   "outputs": [
    {
     "name": "stdout",
     "output_type": "stream",
     "text": [
      "Collecting package metadata (current_repodata.json): ...working... done\n",
      "Solving environment: ...working... done\n",
      "\n",
      "# All requested packages already installed.\n",
      "\n",
      "\n",
      "Note: you may need to restart the kernel to use updated packages.\n"
     ]
    }
   ],
   "source": [
    "conda install -c conda-forge folium"
   ]
  },
  {
   "cell_type": "code",
   "execution_count": 3,
   "metadata": {
    "scrolled": true
   },
   "outputs": [],
   "source": [
    "import folium # map rendering library\n",
    "import requests\n",
    "import numpy as np\n",
    "import random\n",
    "from pandas.io.json import json_normalize"
   ]
  },
  {
   "cell_type": "code",
   "execution_count": 4,
   "metadata": {},
   "outputs": [],
   "source": [
    "from geopy.geocoders import Nominatim"
   ]
  },
  {
   "cell_type": "code",
   "execution_count": 5,
   "metadata": {},
   "outputs": [
    {
     "name": "stdout",
     "output_type": "stream",
     "text": [
      "The geographical coordinate of Chicago are 41.8755616,-87.6244212.\n"
     ]
    }
   ],
   "source": [
    "address = 'Chicago,IL'\n",
    "geolocator = Nominatim(user_agent=\"chicago_explorer\")\n",
    "location = geolocator.geocode(address)\n",
    "latitude = location.latitude\n",
    "longitude = location.longitude\n",
    "print('The geographical coordinate of Chicago are {},{}.'.format(latitude,longitude));"
   ]
  },
  {
   "cell_type": "code",
   "execution_count": 6,
   "metadata": {},
   "outputs": [],
   "source": [
    "map_chicago = folium.Map(location=[latitude, longitude], zoom_start=11)"
   ]
  },
  {
   "cell_type": "code",
   "execution_count": 7,
   "metadata": {},
   "outputs": [
    {
     "data": {
      "text/html": [
       "<div style=\"width:100%;\"><div style=\"position:relative;width:100%;height:0;padding-bottom:60%;\"><span style=\"color:#565656\">Make this Notebook Trusted to load map: File -> Trust Notebook</span><iframe src=\"about:blank\" style=\"position:absolute;width:100%;height:100%;left:0;top:0;border:none !important;\" data-html=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 onload=\"this.contentDocument.open();this.contentDocument.write(atob(this.getAttribute('data-html')));this.contentDocument.close();\" allowfullscreen webkitallowfullscreen mozallowfullscreen></iframe></div></div>"
      ],
      "text/plain": [
       "<folium.folium.Map at 0x2aac36493a0>"
      ]
     },
     "execution_count": 7,
     "metadata": {},
     "output_type": "execute_result"
    }
   ],
   "source": [
    "map_chicago"
   ]
  },
  {
   "cell_type": "code",
   "execution_count": 8,
   "metadata": {},
   "outputs": [
    {
     "name": "stdout",
     "output_type": "stream",
     "text": [
      "Your credentails:\n",
      "CLIENT_ID: ARMIVQSQH4QPDIFSSJ25ZKW3D13AVXOKPM43G12HB2B1V420\n",
      "CLIENT_SECRET:IC3CBJ51FC2XYAGIZRVHUS3RHQ4IFIAPRV5GDGBFSEWI3ZNA\n"
     ]
    }
   ],
   "source": [
    "CLIENT_ID = 'ARMIVQSQH4QPDIFSSJ25ZKW3D13AVXOKPM43G12HB2B1V420' # your Foursquare ID\n",
    "CLIENT_SECRET = 'IC3CBJ51FC2XYAGIZRVHUS3RHQ4IFIAPRV5GDGBFSEWI3ZNA' # your Foursquare Secret\n",
    "VERSION = '20180604'\n",
    "LIMIT = 30\n",
    "print('Your credentails:')\n",
    "print('CLIENT_ID: ' + CLIENT_ID)\n",
    "print('CLIENT_SECRET:' + CLIENT_SECRET)"
   ]
  },
  {
   "cell_type": "code",
   "execution_count": 9,
   "metadata": {},
   "outputs": [
    {
     "name": "stdout",
     "output_type": "stream",
     "text": [
      "Nightclub .... OK!\n"
     ]
    }
   ],
   "source": [
    "search_query = 'Nightclub'\n",
    "radius = 1500\n",
    "print(search_query + ' .... OK!')"
   ]
  },
  {
   "cell_type": "code",
   "execution_count": 10,
   "metadata": {},
   "outputs": [],
   "source": [
    "url = 'https://api.foursquare.com/v2/venues/search?client_id={}&client_secret={}&ll={},{}&v={}&query={}&radius={}&limit={}'.format(CLIENT_ID, CLIENT_SECRET, latitude, longitude, VERSION, search_query, radius, LIMIT)\n"
   ]
  },
  {
   "cell_type": "code",
   "execution_count": 11,
   "metadata": {
    "scrolled": true
   },
   "outputs": [
    {
     "data": {
      "text/plain": [
       "{'meta': {'code': 200, 'requestId': '5febb37754b55051517ced66'},\n",
       " 'response': {'venues': [{'id': '50db781be4b0ab9838c6963b',\n",
       "    'name': 'Shadow Night Clubs',\n",
       "    'location': {'address': 'All Over Chicago',\n",
       "     'lat': 41.87810998022422,\n",
       "     'lng': -87.62979916325851,\n",
       "     'labeledLatLngs': [{'label': 'display',\n",
       "       'lat': 41.87810998022422,\n",
       "       'lng': -87.62979916325851}],\n",
       "     'distance': 528,\n",
       "     'postalCode': '60632',\n",
       "     'cc': 'US',\n",
       "     'city': 'Chicago',\n",
       "     'state': 'IL',\n",
       "     'country': 'United States',\n",
       "     'formattedAddress': ['All Over Chicago',\n",
       "      'Chicago, IL 60632',\n",
       "      'United States']},\n",
       "    'categories': [{'id': '4bf58dd8d48988d11a941735',\n",
       "      'name': 'Other Nightlife',\n",
       "      'pluralName': 'Other Nightlife',\n",
       "      'shortName': 'Nightlife',\n",
       "      'icon': {'prefix': 'https://ss3.4sqi.net/img/categories_v2/nightlife/default_',\n",
       "       'suffix': '.png'},\n",
       "      'primary': True}],\n",
       "    'referralId': 'v-1609282423',\n",
       "    'hasPerk': False},\n",
       "   {'id': '4f77d6aee4b0e91fa757918b',\n",
       "    'name': 'Under the L Night Club',\n",
       "    'location': {'lat': 41.88557099129635,\n",
       "     'lng': -87.6351390157105,\n",
       "     'labeledLatLngs': [{'label': 'display',\n",
       "       'lat': 41.88557099129635,\n",
       "       'lng': -87.6351390157105}],\n",
       "     'distance': 1424,\n",
       "     'postalCode': '60606',\n",
       "     'cc': 'US',\n",
       "     'city': 'Chicago',\n",
       "     'state': 'IL',\n",
       "     'country': 'United States',\n",
       "     'formattedAddress': ['Chicago, IL 60606', 'United States']},\n",
       "    'categories': [{'id': '4bf58dd8d48988d11f941735',\n",
       "      'name': 'Nightclub',\n",
       "      'pluralName': 'Nightclubs',\n",
       "      'shortName': 'Nightclub',\n",
       "      'icon': {'prefix': 'https://ss3.4sqi.net/img/categories_v2/nightlife/nightclub_',\n",
       "       'suffix': '.png'},\n",
       "      'primary': True}],\n",
       "    'referralId': 'v-1609282423',\n",
       "    'hasPerk': False}]}}"
      ]
     },
     "execution_count": 11,
     "metadata": {},
     "output_type": "execute_result"
    }
   ],
   "source": [
    "results = requests.get(url).json()\n",
    "results"
   ]
  },
  {
   "cell_type": "code",
   "execution_count": 12,
   "metadata": {},
   "outputs": [
    {
     "name": "stderr",
     "output_type": "stream",
     "text": [
      "<ipython-input-12-1cb4c0e6f6f4>:2: FutureWarning: pandas.io.json.json_normalize is deprecated, use pandas.json_normalize instead\n",
      "  dataframe = json_normalize(venues)\n"
     ]
    },
    {
     "data": {
      "text/html": [
       "<div>\n",
       "<style scoped>\n",
       "    .dataframe tbody tr th:only-of-type {\n",
       "        vertical-align: middle;\n",
       "    }\n",
       "\n",
       "    .dataframe tbody tr th {\n",
       "        vertical-align: top;\n",
       "    }\n",
       "\n",
       "    .dataframe thead th {\n",
       "        text-align: right;\n",
       "    }\n",
       "</style>\n",
       "<table border=\"1\" class=\"dataframe\">\n",
       "  <thead>\n",
       "    <tr style=\"text-align: right;\">\n",
       "      <th></th>\n",
       "      <th>id</th>\n",
       "      <th>name</th>\n",
       "      <th>categories</th>\n",
       "      <th>referralId</th>\n",
       "      <th>hasPerk</th>\n",
       "      <th>location.address</th>\n",
       "      <th>location.lat</th>\n",
       "      <th>location.lng</th>\n",
       "      <th>location.labeledLatLngs</th>\n",
       "      <th>location.distance</th>\n",
       "      <th>location.postalCode</th>\n",
       "      <th>location.cc</th>\n",
       "      <th>location.city</th>\n",
       "      <th>location.state</th>\n",
       "      <th>location.country</th>\n",
       "      <th>location.formattedAddress</th>\n",
       "    </tr>\n",
       "  </thead>\n",
       "  <tbody>\n",
       "    <tr>\n",
       "      <th>0</th>\n",
       "      <td>50db781be4b0ab9838c6963b</td>\n",
       "      <td>Shadow Night Clubs</td>\n",
       "      <td>[{'id': '4bf58dd8d48988d11a941735', 'name': 'O...</td>\n",
       "      <td>v-1609282423</td>\n",
       "      <td>False</td>\n",
       "      <td>All Over Chicago</td>\n",
       "      <td>41.878110</td>\n",
       "      <td>-87.629799</td>\n",
       "      <td>[{'label': 'display', 'lat': 41.87810998022422...</td>\n",
       "      <td>528</td>\n",
       "      <td>60632</td>\n",
       "      <td>US</td>\n",
       "      <td>Chicago</td>\n",
       "      <td>IL</td>\n",
       "      <td>United States</td>\n",
       "      <td>[All Over Chicago, Chicago, IL 60632, United S...</td>\n",
       "    </tr>\n",
       "    <tr>\n",
       "      <th>1</th>\n",
       "      <td>4f77d6aee4b0e91fa757918b</td>\n",
       "      <td>Under the L Night Club</td>\n",
       "      <td>[{'id': '4bf58dd8d48988d11f941735', 'name': 'N...</td>\n",
       "      <td>v-1609282423</td>\n",
       "      <td>False</td>\n",
       "      <td>NaN</td>\n",
       "      <td>41.885571</td>\n",
       "      <td>-87.635139</td>\n",
       "      <td>[{'label': 'display', 'lat': 41.88557099129635...</td>\n",
       "      <td>1424</td>\n",
       "      <td>60606</td>\n",
       "      <td>US</td>\n",
       "      <td>Chicago</td>\n",
       "      <td>IL</td>\n",
       "      <td>United States</td>\n",
       "      <td>[Chicago, IL 60606, United States]</td>\n",
       "    </tr>\n",
       "  </tbody>\n",
       "</table>\n",
       "</div>"
      ],
      "text/plain": [
       "                         id                    name  \\\n",
       "0  50db781be4b0ab9838c6963b      Shadow Night Clubs   \n",
       "1  4f77d6aee4b0e91fa757918b  Under the L Night Club   \n",
       "\n",
       "                                          categories    referralId  hasPerk  \\\n",
       "0  [{'id': '4bf58dd8d48988d11a941735', 'name': 'O...  v-1609282423    False   \n",
       "1  [{'id': '4bf58dd8d48988d11f941735', 'name': 'N...  v-1609282423    False   \n",
       "\n",
       "   location.address  location.lat  location.lng  \\\n",
       "0  All Over Chicago     41.878110    -87.629799   \n",
       "1               NaN     41.885571    -87.635139   \n",
       "\n",
       "                             location.labeledLatLngs  location.distance  \\\n",
       "0  [{'label': 'display', 'lat': 41.87810998022422...                528   \n",
       "1  [{'label': 'display', 'lat': 41.88557099129635...               1424   \n",
       "\n",
       "  location.postalCode location.cc location.city location.state  \\\n",
       "0               60632          US       Chicago             IL   \n",
       "1               60606          US       Chicago             IL   \n",
       "\n",
       "  location.country                          location.formattedAddress  \n",
       "0    United States  [All Over Chicago, Chicago, IL 60632, United S...  \n",
       "1    United States                 [Chicago, IL 60606, United States]  "
      ]
     },
     "execution_count": 12,
     "metadata": {},
     "output_type": "execute_result"
    }
   ],
   "source": [
    "venues = results['response']['venues']\n",
    "dataframe = json_normalize(venues)\n",
    "dataframe.head()"
   ]
  },
  {
   "cell_type": "code",
   "execution_count": 13,
   "metadata": {},
   "outputs": [
    {
     "data": {
      "text/html": [
       "<div>\n",
       "<style scoped>\n",
       "    .dataframe tbody tr th:only-of-type {\n",
       "        vertical-align: middle;\n",
       "    }\n",
       "\n",
       "    .dataframe tbody tr th {\n",
       "        vertical-align: top;\n",
       "    }\n",
       "\n",
       "    .dataframe thead th {\n",
       "        text-align: right;\n",
       "    }\n",
       "</style>\n",
       "<table border=\"1\" class=\"dataframe\">\n",
       "  <thead>\n",
       "    <tr style=\"text-align: right;\">\n",
       "      <th></th>\n",
       "      <th>id</th>\n",
       "      <th>name</th>\n",
       "      <th>categories</th>\n",
       "      <th>referralId</th>\n",
       "      <th>hasPerk</th>\n",
       "      <th>location.address</th>\n",
       "      <th>location.lat</th>\n",
       "      <th>location.lng</th>\n",
       "      <th>location.labeledLatLngs</th>\n",
       "      <th>location.distance</th>\n",
       "      <th>location.postalCode</th>\n",
       "      <th>location.cc</th>\n",
       "      <th>location.city</th>\n",
       "      <th>location.state</th>\n",
       "      <th>location.country</th>\n",
       "      <th>location.formattedAddress</th>\n",
       "    </tr>\n",
       "  </thead>\n",
       "  <tbody>\n",
       "    <tr>\n",
       "      <th>0</th>\n",
       "      <td>50db781be4b0ab9838c6963b</td>\n",
       "      <td>Shadow Night Clubs</td>\n",
       "      <td>[{'id': '4bf58dd8d48988d11a941735', 'name': 'O...</td>\n",
       "      <td>v-1609282423</td>\n",
       "      <td>False</td>\n",
       "      <td>All Over Chicago</td>\n",
       "      <td>41.878110</td>\n",
       "      <td>-87.629799</td>\n",
       "      <td>[{'label': 'display', 'lat': 41.87810998022422...</td>\n",
       "      <td>528</td>\n",
       "      <td>60632</td>\n",
       "      <td>US</td>\n",
       "      <td>Chicago</td>\n",
       "      <td>IL</td>\n",
       "      <td>United States</td>\n",
       "      <td>[All Over Chicago, Chicago, IL 60632, United S...</td>\n",
       "    </tr>\n",
       "    <tr>\n",
       "      <th>1</th>\n",
       "      <td>4f77d6aee4b0e91fa757918b</td>\n",
       "      <td>Under the L Night Club</td>\n",
       "      <td>[{'id': '4bf58dd8d48988d11f941735', 'name': 'N...</td>\n",
       "      <td>v-1609282423</td>\n",
       "      <td>False</td>\n",
       "      <td>NaN</td>\n",
       "      <td>41.885571</td>\n",
       "      <td>-87.635139</td>\n",
       "      <td>[{'label': 'display', 'lat': 41.88557099129635...</td>\n",
       "      <td>1424</td>\n",
       "      <td>60606</td>\n",
       "      <td>US</td>\n",
       "      <td>Chicago</td>\n",
       "      <td>IL</td>\n",
       "      <td>United States</td>\n",
       "      <td>[Chicago, IL 60606, United States]</td>\n",
       "    </tr>\n",
       "  </tbody>\n",
       "</table>\n",
       "</div>"
      ],
      "text/plain": [
       "                         id                    name  \\\n",
       "0  50db781be4b0ab9838c6963b      Shadow Night Clubs   \n",
       "1  4f77d6aee4b0e91fa757918b  Under the L Night Club   \n",
       "\n",
       "                                          categories    referralId  hasPerk  \\\n",
       "0  [{'id': '4bf58dd8d48988d11a941735', 'name': 'O...  v-1609282423    False   \n",
       "1  [{'id': '4bf58dd8d48988d11f941735', 'name': 'N...  v-1609282423    False   \n",
       "\n",
       "   location.address  location.lat  location.lng  \\\n",
       "0  All Over Chicago     41.878110    -87.629799   \n",
       "1               NaN     41.885571    -87.635139   \n",
       "\n",
       "                             location.labeledLatLngs  location.distance  \\\n",
       "0  [{'label': 'display', 'lat': 41.87810998022422...                528   \n",
       "1  [{'label': 'display', 'lat': 41.88557099129635...               1424   \n",
       "\n",
       "  location.postalCode location.cc location.city location.state  \\\n",
       "0               60632          US       Chicago             IL   \n",
       "1               60606          US       Chicago             IL   \n",
       "\n",
       "  location.country                          location.formattedAddress  \n",
       "0    United States  [All Over Chicago, Chicago, IL 60632, United S...  \n",
       "1    United States                 [Chicago, IL 60606, United States]  "
      ]
     },
     "execution_count": 13,
     "metadata": {},
     "output_type": "execute_result"
    }
   ],
   "source": [
    "dataframe.head(10)"
   ]
  },
  {
   "cell_type": "code",
   "execution_count": 14,
   "metadata": {
    "scrolled": true
   },
   "outputs": [
    {
     "data": {
      "text/plain": [
       "0    41.878110\n",
       "1    41.885571\n",
       "Name: location.lat, dtype: float64"
      ]
     },
     "execution_count": 14,
     "metadata": {},
     "output_type": "execute_result"
    }
   ],
   "source": [
    "dataframe[\"location.lat\"]"
   ]
  },
  {
   "cell_type": "code",
   "execution_count": 15,
   "metadata": {},
   "outputs": [],
   "source": [
    "for lat, lon, name in zip(dataframe[\"location.lat\"],dataframe[\"location.lng\"],dataframe[\"name\"]):\n",
    "    folium.CircleMarker(\n",
    "    [lat,lon],\n",
    "    radius=5,\n",
    "    color='blue',\n",
    "    popup=name,\n",
    "    fill = True,\n",
    "    fill_color='blue',\n",
    "    fill_opacity=0.6,\n",
    "    ).add_to(map_chicago)"
   ]
  },
  {
   "cell_type": "code",
   "execution_count": 16,
   "metadata": {},
   "outputs": [
    {
     "data": {
      "text/html": [
       "<div style=\"width:100%;\"><div style=\"position:relative;width:100%;height:0;padding-bottom:60%;\"><span style=\"color:#565656\">Make this Notebook Trusted to load map: File -> Trust Notebook</span><iframe src=\"about:blank\" style=\"position:absolute;width:100%;height:100%;left:0;top:0;border:none !important;\" data-html=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 onload=\"this.contentDocument.open();this.contentDocument.write(atob(this.getAttribute('data-html')));this.contentDocument.close();\" allowfullscreen webkitallowfullscreen mozallowfullscreen></iframe></div></div>"
      ],
      "text/plain": [
       "<folium.folium.Map at 0x2aac36493a0>"
      ]
     },
     "execution_count": 16,
     "metadata": {},
     "output_type": "execute_result"
    }
   ],
   "source": [
    "map_chicago"
   ]
  },
  {
   "cell_type": "code",
   "execution_count": null,
   "metadata": {},
   "outputs": [],
   "source": [
    "!conda install python=3 geopandas"
   ]
  },
  {
   "cell_type": "code",
   "execution_count": null,
   "metadata": {},
   "outputs": [],
   "source": [
    "import geopandas as gpd\n",
    "from shapely.geometry import Polygon"
   ]
  },
  {
   "cell_type": "code",
   "execution_count": null,
   "metadata": {},
   "outputs": [],
   "source": [
    "points  = [-87.606708,41.816814 -87.606712,41.817080 -87.606717,41.817291 -87.606721,41.817507 -87.606727,41.817688 -87.606728,41.817733 -87.606730,41.817801 -87.606735,41.817944 -87.606743,41.818152 -87.606745,41.818310 -87.606747,41.818439 -87.606750,41.818618 -87.606753,41.818825 -87.606753,41.819040 -87.606753,41.819079 -87.606760,41.819345 -87.606767,41.819477 -87.606772,41.819572 -87.606772,41.819572 -87.606799,41.820071 -87.606804,41.820269 -87.606806,41.820382 -87.606809,41.820487 -87.606820,41.820956 -87.606823,41.821087 -87.606833,41.821503 -87.606845,41.822012 -87.606847,41.822127 -87.606853,41.822425 -87.606855,41.822729 -87.606859,41.823166 -87.606437,41.823306 -87.606873,41.823965 -87.606880,41.823963 -87.606916,41.823960 -87.607029,41.823958 -87.607327,41.823949 -87.608338,41.823937 -87.609587,41.823923 -87.609841,41.823921 -87.612136,41.823897 -87.612624,41.823891 -87.613076,41.823885 -87.614364,41.823869 -87.615148,41.823859 -87.615475,41.823855 -87.616109,41.823848 -87.616732,41.823838 -87.616997,41.823834 -87.617259,41.823830 -87.617710,41.823823 -87.617950,41.823820 -87.618214,41.823817 -87.618551,41.823813 -87.618862,41.823809 -87.619178,41.823805 -87.619988,41.823795 -87.620395,41.823790 -87.620953,41.823783 -87.621602,41.823775 -87.622230,41.823767 -87.622346,41.823766 -87.622408,41.823765 -87.623147,41.823756 -87.624268,41.823742 -87.624321,41.823741 -87.624464,41.823740 -87.624823,41.823736 -87.624972,41.823734 -87.625319,41.823729 -87.625598,41.823725 -87.625744,41.823723 -87.625920,41.823721 -87.626080,41.823719 -87.626422,41.823714 -87.626612,41.823711 -87.626987,41.823708 -87.627225,41.823705 -87.627593,41.823699 -87.627734,41.823697 -87.628070,41.823690 -87.628307,41.823688 -87.628618,41.823685 -87.628765,41.823684 -87.628968,41.823681 -87.629130,41.823680 -87.629357,41.823676 -87.629354,41.823576 -87.629353,41.823535 -87.629350,41.823357 -87.629363,41.823272 -87.629357,41.823206 -87.629351,41.823145 -87.629339,41.823024 -87.629333,41.822694 -87.629324,41.822379 -87.629314,41.822076 -87.629312,41.821923 -87.629310,41.821850 -87.629302,41.821556 -87.629291,41.821159 -87.629278,41.820758 -87.629275,41.820600 -87.629273,41.820492 -87.629271,41.820386 -87.629266,41.820167 -87.629262,41.820041 -87.629259,41.819940 -87.629259,41.819897 -87.629255,41.819787 -87.629195,41.819461 -87.629192,41.819255 -87.629191,41.819161 -87.629188,41.819064 -87.629183,41.818879 -87.629171,41.818452 -87.629159,41.818018 -87.629147,41.817580 -87.629138,41.817171 -87.629126,41.816711 -87.629124,41.816598 -87.629122,41.816545 -87.629119,41.816451 -87.629119,41.816450 -87.629116,41.816358 -87.629094,41.815654 -87.629068,41.814728 -87.629066,41.814637 -87.629066,41.814637 -87.629064,41.814545 -87.629062,41.814505 -87.629045,41.813914 -87.629026,41.813236 -87.629023,41.813118 -87.629020,41.813010 -87.629017,41.812917 -87.628998,41.812218 -87.628996,41.812129 -87.628996,41.812129 -87.628994,41.812044 -87.628973,41.811264 -87.628972,41.811206 -87.628973,41.811149 -87.628977,41.811091 -87.628983,41.811033 -87.628991,41.810984 -87.628996,41.810935 -87.629000,41.810885 -87.629003,41.810836 -87.629004,41.810787 -87.629004,41.810737 -87.629003,41.810683 -87.629006,41.810613 -87.629011,41.810543 -87.629017,41.810473 -87.629024,41.810404 -87.629032,41.810341 -87.629038,41.810278 -87.629041,41.810216 -87.629042,41.810153 -87.629035,41.809928 -87.629018,41.809275 -87.629016,41.809184 -87.629016,41.809184 -87.629013,41.809085 -87.629009,41.808963 -87.628992,41.808826 -87.628979,41.808478 -87.628983,41.808371 -87.628981,41.808333 -87.628966,41.807860 -87.628966,41.807769 -87.628990,41.807614 -87.629017,41.807401 -87.629025,41.807245 -87.629021,41.807082 -87.629011,41.806705 -87.628997,41.806250 -87.628988,41.805977 -87.628978,41.805640 -87.628968,41.805137 -87.628965,41.805019 -87.628956,41.804650 -87.628940,41.804168 -87.628933,41.803815 -87.628928,41.803625 -87.628921,41.803366 -87.628915,41.803290 -87.628911,41.803221 -87.628896,41.803134 -87.628846,41.802885 -87.628830,41.802751 -87.628822,41.802667 -87.628808,41.802249 -87.628798,41.801893 -87.628704,41.801896 -87.628528,41.801900 -87.628261,41.801908 -87.628040,41.801911 -87.628012,41.801911 -87.627984,41.801912 -87.627760,41.801915 -87.627212,41.801925 -87.626872,41.801932 -87.626724,41.801936 -87.626583,41.801939 -87.626112,41.801942 -87.625890,41.801946 -87.625596,41.801951 -87.625150,41.801959 -87.625088,41.801960 -87.624617,41.801968 -87.624561,41.801969 -87.624273,41.801973 -87.623959,41.801978 -87.623453,41.801987 -87.623294,41.801990 -87.622889,41.801998 -87.622649,41.802001 -87.622448,41.802004 -87.621913,41.802012 -87.621840,41.802013 -87.621458,41.802020 -87.621027,41.802027 -87.620431,41.802037 -87.620308,41.802039 -87.620225,41.802040 -87.619850,41.802046 -87.619407,41.802053 -87.619057,41.802058 -87.618631,41.802065 -87.618551,41.802067 -87.618487,41.802068 -87.618472,41.802068 -87.617965,41.802076 -87.617747,41.802079 -87.617465,41.802084 -87.617346,41.802086 -87.616916,41.802092 -87.616851,41.802093 -87.616635,41.802097 -87.616549,41.802098 -87.616348,41.802101 -87.616272,41.802101 -87.616111,41.802103 -87.616076,41.802103 -87.615858,41.802104 -87.615710,41.802105 -87.615497,41.802107 -87.615391,41.802108 -87.614968,41.802115 -87.614643,41.802120 -87.614331,41.802124 -87.614193,41.802126 -87.614071,41.802128 -87.613792,41.802132 -87.612845,41.802146 -87.612503,41.802151 -87.612232,41.802155 -87.611586,41.802165 -87.611286,41.802169 -87.611109,41.802172 -87.610708,41.802178 -87.610240,41.802185 -87.610040,41.802189 -87.609769,41.802193 -87.609122,41.802204 -87.607886,41.802223 -87.607656,41.802227 -87.607384,41.802231 -87.606770,41.802240 -87.606407,41.802251 -87.606416,41.802511 -87.606425,41.802943 -87.606429,41.803164 -87.606449,41.804081 -87.606454,41.804346 -87.606458,41.804539 -87.606472,41.805125 -87.606476,41.805356 -87.606478,41.805508 -87.606487,41.805894 -87.606494,41.806141 -87.606496,41.806371 -87.606502,41.806623 -87.606510,41.806916 -87.606514,41.807122 -87.606520,41.807386 -87.606523,41.807516 -87.606526,41.807715 -87.606530,41.807956 -87.606534,41.808137 -87.606538,41.808332 -87.606544,41.808624 -87.606548,41.808806 -87.606552,41.809006 -87.606557,41.809198 -87.606565,41.809533 -87.606572,41.809818 -87.606575,41.810012 -87.606576,41.810068 -87.606580,41.810252 -87.606586,41.810480 -87.606591,41.810697 -87.606598,41.810991 -87.606605,41.811354 -87.606609,41.811578 -87.606613,41.811736 -87.606619,41.811936 -87.606623,41.812134 -87.606625,41.812241 -87.606629,41.812404 -87.606635,41.812656 -87.606643,41.812955 -87.606647,41.813173 -87.606651,41.813421 -87.606656,41.813661 -87.606664,41.813995 -87.606672,41.814282 -87.606682,41.814720 -87.606680,41.814994 -87.606677,41.815300 -87.606684,41.815566 -87.606690,41.815812 -87.606696,41.816099 -87.606700,41.816339 -87.606705,41.816579 -87.606708,41.816814]\n",
    "lon_point_list = points[0:2:len(points)-1]\n",
    "lat_point_list = points[1:2:len(points)]"
   ]
  },
  {
   "cell_type": "code",
   "execution_count": null,
   "metadata": {},
   "outputs": [],
   "source": [
    "\n",
    "\n",
    "lat_point_list = [50.854457, 52.518172, 50.072651, 48.853033, 50.854457]\n",
    "lon_point_list = [4.377184, 13.407759, 14.435935, 2.349553, 4.377184]\n",
    "\n",
    "polygon_geom = Polygon(zip(lon_point_list, lat_point_list))\n",
    "crs = {'init': 'epsg:4326'}\n",
    "polygon = gpd.GeoDataFrame(index=[0], crs=crs, geometry=[polygon_geom])       \n",
    "print(polygon.geometry)"
   ]
  },
  {
   "cell_type": "code",
   "execution_count": null,
   "metadata": {},
   "outputs": [],
   "source": [
    "# import k-means from clustering stage\n",
    "from sklearn.cluster import KMeans"
   ]
  }
 ],
 "metadata": {
  "kernelspec": {
   "display_name": "Python 3",
   "language": "python",
   "name": "python3"
  },
  "language_info": {
   "codemirror_mode": {
    "name": "ipython",
    "version": 3
   },
   "file_extension": ".py",
   "mimetype": "text/x-python",
   "name": "python",
   "nbconvert_exporter": "python",
   "pygments_lexer": "ipython3",
   "version": "3.8.5"
  }
 },
 "nbformat": 4,
 "nbformat_minor": 4
}
