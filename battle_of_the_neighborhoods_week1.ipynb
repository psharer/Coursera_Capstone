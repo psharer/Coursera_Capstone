{
 "cells": [
  {
   "cell_type": "markdown",
   "metadata": {},
   "source": [
    "# Best Locations for a Night Club in New York"
   ]
  },
  {
   "cell_type": "markdown",
   "metadata": {},
   "source": [
    "## Introduction/Business Problem"
   ]
  },
  {
   "cell_type": "markdown",
   "metadata": {},
   "source": [
    "Assume an entertainment company is choosing a location for a night club in New York City.  This report will suggest the top three neighborhoods for the night club by analyzing data obtained using the Four Square API and data for New York City's neighborhoods. In addition, an appropriate genre of music will be recommended from the following: EDM (Electronic Dance Music), Trap, Hip Hop, Trance, or House based on the neighborhood's proximity to other clubs."
   ]
  },
  {
   "cell_type": "markdown",
   "metadata": {},
   "source": [
    "Neighborhoods will be plotted and clustered based on their night life. A neighborhood which already has a medium amount of night life which is not already saturated by night clubs of the same genre would be a candidate."
   ]
  },
  {
   "cell_type": "markdown",
   "metadata": {},
   "source": [
    "Said entertainment company wants to choose an optimal location for their night club which will attract a lot of patrons. Locating the club in a popular, trendy area of the city is important. Neighborhoods with other clubs within walking distance are a good bet for oftentimes club patrons will hop from club to club, especially, if there are other genres of music close by. Thus, it will be important to locate the club in an area which isn't already saturated by clubs of the same genre of music. That is, we want to avoid placing an EDM club in an area already saturated by other EDM clubs. One club of the same type might be okay for you will have curious club goers that like EDM music want to try a different venue and they are already nearby but if there are already two or three EDM clubs within walking distance or a five minute cab/uber ride that neighborhood should be avoided. "
   ]
  },
  {
   "cell_type": "markdown",
   "metadata": {},
   "source": [
    "## Data"
   ]
  },
  {
   "cell_type": "markdown",
   "metadata": {},
   "source": [
    "As mentioned above, the data used will be venue data obtained using the Four Square API and New York neighborhood data obtained from https://geo.nyu.edu/catalog/nyu_2451_34572 . This is the same data that was used in a previous assignment for this course.  "
   ]
  },
  {
   "cell_type": "markdown",
   "metadata": {},
   "source": [
    "### Example FourSquare data"
   ]
  },
  {
   "cell_type": "markdown",
   "metadata": {},
   "source": [
    "A snippet of the data from foursquare using the API is shown below. It is in a json format and has venue data along with the venue's longitude and latitude."
   ]
  },
  {
   "cell_type": "markdown",
   "metadata": {},
   "source": [
    "{'meta': {'code': 200, 'requestId': '5febbfa4fb7e627cbeead158'},\n",
    " 'response': {'venues': [{'id': '5caf985d666116002ca0eab5',\n",
    "    'name': 'VANDAL Nightclub',\n",
    "    'location': {'address': '199 Bowery Lowr Level',\n",
    "     'lat': 40.721200701082005,\n",
    "     'lng': -73.99345526074791,\n",
    "     'labeledLatLngs': [{'label': 'display',\n",
    "       'lat': 40.721200701082005,\n",
    "       'lng': -73.99345526074791}],\n",
    "     'distance': 1418,\n",
    "     'postalCode': '10002',\n",
    "     'cc': 'US',\n",
    "     'city': 'New York',\n",
    "     'state': 'NY',\n",
    "     'country': 'United States',\n",
    "     'formattedAddress': ['199 Bowery Lowr Level',\n",
    "      'New York, NY 10002',\n",
    "      'United States']},\n",
    "    'categories': [{'id': '4bf58dd8d48988d11f941735',\n",
    "      'name': 'Nightclub',\n",
    "      'pluralName': 'Nightclubs',\n",
    "      'shortName': 'Nightclub',\n",
    "      'icon': {'prefix': 'https://ss3.4sqi.net/img/categories_v2/nightlife/nightclub_',\n",
    "       'suffix': '.png'},\n",
    "      'primary': True}],\n",
    "    'referralId': 'v-1609285540',\n",
    "    'hasPerk': False},"
   ]
  },
  {
   "cell_type": "markdown",
   "metadata": {},
   "source": [
    "### Example New York City Neighborhood data"
   ]
  },
  {
   "cell_type": "markdown",
   "metadata": {},
   "source": [
    "A snippet of the data from the New York city neighborhood data set is shown below. It is also in a json format and has the neighborhood's longitude and latitude which can be matched up to the venue data."
   ]
  },
  {
   "cell_type": "markdown",
   "metadata": {},
   "source": [
    "{'type': 'FeatureCollection',\n",
    " 'totalFeatures': 306,\n",
    " 'features': [{'type': 'Feature',\n",
    "   'id': 'nyu_2451_34572.1',\n",
    "   'geometry': {'type': 'Point',\n",
    "    'coordinates': [-73.84720052054902, 40.89470517661]},\n",
    "   'geometry_name': 'geom',\n",
    "   'properties': {'name': 'Wakefield',\n",
    "    'stacked': 1,\n",
    "    'annoline1': 'Wakefield',\n",
    "    'annoline2': None,\n",
    "    'annoline3': None,\n",
    "    'annoangle': 0.0,\n",
    "    'borough': 'Bronx',\n",
    "    'bbox': [-73.84720052054902,\n",
    "     40.89470517661,\n",
    "     -73.84720052054902,\n",
    "     40.89470517661]}},\n",
    "  {'type': 'Feature',\n",
    "   'id': 'nyu_2451_34572.2',\n",
    "   'geometry': {'type': 'Point',\n",
    "    'coordinates': [-73.82993910812398, 40.87429419303012]},\n",
    "   'geometry_name': 'geom',\n",
    "   'properties': {'name': 'Co-op City',\n",
    "    'stacked': 2,\n",
    "    'annoline1': 'Co-op',\n",
    "    'annoline2': 'City',\n",
    "    'annoline3': None,\n",
    "    'annoangle': 0.0,\n",
    "    'borough': 'Bronx',\n",
    "    'bbox': [-73.82993910812398,\n",
    "     40.87429419303012,\n",
    "     -73.82993910812398,\n",
    "     40.87429419303012]}},"
   ]
  }
 ],
 "metadata": {
  "kernelspec": {
   "display_name": "Python 3",
   "language": "python",
   "name": "python3"
  },
  "language_info": {
   "codemirror_mode": {
    "name": "ipython",
    "version": 3
   },
   "file_extension": ".py",
   "mimetype": "text/x-python",
   "name": "python",
   "nbconvert_exporter": "python",
   "pygments_lexer": "ipython3",
   "version": "3.7.9"
  }
 },
 "nbformat": 4,
 "nbformat_minor": 4
}
