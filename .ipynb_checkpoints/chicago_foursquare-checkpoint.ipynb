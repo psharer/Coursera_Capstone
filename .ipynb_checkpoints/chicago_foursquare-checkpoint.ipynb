{
 "cells": [
  {
   "cell_type": "code",
   "execution_count": 2,
   "metadata": {
    "scrolled": false
   },
   "outputs": [
    {
     "name": "stdout",
     "output_type": "stream",
     "text": [
      "Collecting package metadata (current_repodata.json): ...working... done\n",
      "Solving environment: ...working... done\n",
      "\n",
      "# All requested packages already installed.\n",
      "\n"
     ]
    }
   ],
   "source": [
    "!conda install -c conda-forge geopy --yes\n"
   ]
  },
  {
   "cell_type": "code",
   "execution_count": 3,
   "metadata": {
    "scrolled": true
   },
   "outputs": [
    {
     "name": "stdout",
     "output_type": "stream",
     "text": [
      "Collecting package metadata (current_repodata.json): ...working... done\n",
      "Solving environment: ...working... done\n",
      "\n",
      "# All requested packages already installed.\n",
      "\n",
      "\n",
      "Note: you may need to restart the kernel to use updated packages.\n"
     ]
    }
   ],
   "source": [
    "conda install -c conda-forge folium"
   ]
  },
  {
   "cell_type": "code",
   "execution_count": 4,
   "metadata": {
    "scrolled": true
   },
   "outputs": [],
   "source": [
    "import folium # map rendering library\n",
    "import requests\n",
    "import numpy as np\n",
    "import random\n",
    "from pandas.io.json import json_normalize"
   ]
  },
  {
   "cell_type": "code",
   "execution_count": 5,
   "metadata": {},
   "outputs": [],
   "source": [
    "from geopy.geocoders import Nominatim"
   ]
  },
  {
   "cell_type": "code",
   "execution_count": 6,
   "metadata": {},
   "outputs": [
    {
     "name": "stdout",
     "output_type": "stream",
     "text": [
      "The geographical coordinate of Chicago are 41.8755616,-87.6244212.\n"
     ]
    }
   ],
   "source": [
    "address = 'Chicago,IL'\n",
    "geolocator = Nominatim(user_agent=\"chicago_explorer\")\n",
    "location = geolocator.geocode(address)\n",
    "latitude = location.latitude\n",
    "longitude = location.longitude\n",
    "print('The geographical coordinate of Chicago are {},{}.'.format(latitude,longitude));"
   ]
  },
  {
   "cell_type": "code",
   "execution_count": 23,
   "metadata": {},
   "outputs": [],
   "source": [
    "map_chicago = folium.Map(location=[latitude, longitude], zoom_start=11)"
   ]
  },
  {
   "cell_type": "code",
   "execution_count": 24,
   "metadata": {},
   "outputs": [
    {
     "data": {
      "text/html": [
       "<div style=\"width:100%;\"><div style=\"position:relative;width:100%;height:0;padding-bottom:60%;\"><span style=\"color:#565656\">Make this Notebook Trusted to load map: File -> Trust Notebook</span><iframe src=\"about:blank\" style=\"position:absolute;width:100%;height:100%;left:0;top:0;border:none !important;\" data-html=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 onload=\"this.contentDocument.open();this.contentDocument.write(atob(this.getAttribute('data-html')));this.contentDocument.close();\" allowfullscreen webkitallowfullscreen mozallowfullscreen></iframe></div></div>"
      ],
      "text/plain": [
       "<folium.folium.Map at 0x1fef2203040>"
      ]
     },
     "execution_count": 24,
     "metadata": {},
     "output_type": "execute_result"
    }
   ],
   "source": [
    "map_chicago"
   ]
  },
  {
   "cell_type": "code",
   "execution_count": 9,
   "metadata": {},
   "outputs": [
    {
     "name": "stdout",
     "output_type": "stream",
     "text": [
      "Your credentails:\n",
      "CLIENT_ID: ARMIVQSQH4QPDIFSSJ25ZKW3D13AVXOKPM43G12HB2B1V420\n",
      "CLIENT_SECRET:IC3CBJ51FC2XYAGIZRVHUS3RHQ4IFIAPRV5GDGBFSEWI3ZNA\n"
     ]
    }
   ],
   "source": [
    "CLIENT_ID = 'ARMIVQSQH4QPDIFSSJ25ZKW3D13AVXOKPM43G12HB2B1V420' # your Foursquare ID\n",
    "CLIENT_SECRET = 'IC3CBJ51FC2XYAGIZRVHUS3RHQ4IFIAPRV5GDGBFSEWI3ZNA' # your Foursquare Secret\n",
    "VERSION = '20180604'\n",
    "LIMIT = 30\n",
    "print('Your credentails:')\n",
    "print('CLIENT_ID: ' + CLIENT_ID)\n",
    "print('CLIENT_SECRET:' + CLIENT_SECRET)"
   ]
  },
  {
   "cell_type": "code",
   "execution_count": 10,
   "metadata": {},
   "outputs": [
    {
     "name": "stdout",
     "output_type": "stream",
     "text": [
      "Italian .... OK!\n"
     ]
    }
   ],
   "source": [
    "search_query = 'Italian'\n",
    "radius = 500\n",
    "print(search_query + ' .... OK!')"
   ]
  },
  {
   "cell_type": "code",
   "execution_count": 11,
   "metadata": {},
   "outputs": [],
   "source": [
    "url = 'https://api.foursquare.com/v2/venues/search?client_id={}&client_secret={}&ll={},{}&v={}&query={}&radius={}&limit={}'.format(CLIENT_ID, CLIENT_SECRET, latitude, longitude, VERSION, search_query, radius, LIMIT)\n"
   ]
  },
  {
   "cell_type": "code",
   "execution_count": 12,
   "metadata": {
    "scrolled": true
   },
   "outputs": [
    {
     "data": {
      "text/plain": [
       "{'meta': {'code': 200, 'requestId': '5fe283e6e73c1a674ae2f91f'},\n",
       " 'response': {'venues': [{'id': '4cf3ede78333224b0341188e',\n",
       "    'name': 'Villa Fresh Italian Kitchen Asian Chao',\n",
       "    'location': {'address': '18 W Jackson Blvd',\n",
       "     'lat': 41.87839,\n",
       "     'lng': -87.62833499999999,\n",
       "     'labeledLatLngs': [{'label': 'display',\n",
       "       'lat': 41.87839,\n",
       "       'lng': -87.62833499999999},\n",
       "      {'label': 'entrance', 'lat': 41.878272, 'lng': -87.628397}],\n",
       "     'distance': 452,\n",
       "     'postalCode': '60604',\n",
       "     'cc': 'US',\n",
       "     'city': 'Chicago',\n",
       "     'state': 'IL',\n",
       "     'country': 'United States',\n",
       "     'formattedAddress': ['18 W Jackson Blvd',\n",
       "      'Chicago, IL 60604',\n",
       "      'United States']},\n",
       "    'categories': [{'id': '4bf58dd8d48988d142941735',\n",
       "      'name': 'Asian Restaurant',\n",
       "      'pluralName': 'Asian Restaurants',\n",
       "      'shortName': 'Asian',\n",
       "      'icon': {'prefix': 'https://ss3.4sqi.net/img/categories_v2/food/asian_',\n",
       "       'suffix': '.png'},\n",
       "      'primary': True}],\n",
       "    'referralId': 'v-1608680422',\n",
       "    'hasPerk': False},\n",
       "   {'id': '5398b267498e07c1344e362e',\n",
       "    'name': \"Al's Beef\",\n",
       "    'location': {'address': '601 W Adams St',\n",
       "     'lat': 41.87839594445686,\n",
       "     'lng': -87.62598477019964,\n",
       "     'labeledLatLngs': [{'label': 'display',\n",
       "       'lat': 41.87839594445686,\n",
       "       'lng': -87.62598477019964}],\n",
       "     'distance': 341,\n",
       "     'postalCode': '60661',\n",
       "     'cc': 'US',\n",
       "     'city': 'Chicago',\n",
       "     'state': 'IL',\n",
       "     'country': 'United States',\n",
       "     'formattedAddress': ['601 W Adams St',\n",
       "      'Chicago, IL 60661',\n",
       "      'United States']},\n",
       "    'categories': [{'id': '4bf58dd8d48988d16f941735',\n",
       "      'name': 'Hot Dog Joint',\n",
       "      'pluralName': 'Hot Dog Joints',\n",
       "      'shortName': 'Hot Dogs',\n",
       "      'icon': {'prefix': 'https://ss3.4sqi.net/img/categories_v2/food/hotdog_',\n",
       "       'suffix': '.png'},\n",
       "      'primary': True}],\n",
       "    'referralId': 'v-1608680422',\n",
       "    'hasPerk': False}]}}"
      ]
     },
     "execution_count": 12,
     "metadata": {},
     "output_type": "execute_result"
    }
   ],
   "source": [
    "results = requests.get(url).json()\n",
    "results"
   ]
  },
  {
   "cell_type": "code",
   "execution_count": 15,
   "metadata": {},
   "outputs": [
    {
     "name": "stderr",
     "output_type": "stream",
     "text": [
      "<ipython-input-15-1cb4c0e6f6f4>:2: FutureWarning: pandas.io.json.json_normalize is deprecated, use pandas.json_normalize instead\n",
      "  dataframe = json_normalize(venues)\n"
     ]
    },
    {
     "data": {
      "text/html": [
       "<div>\n",
       "<style scoped>\n",
       "    .dataframe tbody tr th:only-of-type {\n",
       "        vertical-align: middle;\n",
       "    }\n",
       "\n",
       "    .dataframe tbody tr th {\n",
       "        vertical-align: top;\n",
       "    }\n",
       "\n",
       "    .dataframe thead th {\n",
       "        text-align: right;\n",
       "    }\n",
       "</style>\n",
       "<table border=\"1\" class=\"dataframe\">\n",
       "  <thead>\n",
       "    <tr style=\"text-align: right;\">\n",
       "      <th></th>\n",
       "      <th>id</th>\n",
       "      <th>name</th>\n",
       "      <th>categories</th>\n",
       "      <th>referralId</th>\n",
       "      <th>hasPerk</th>\n",
       "      <th>location.address</th>\n",
       "      <th>location.lat</th>\n",
       "      <th>location.lng</th>\n",
       "      <th>location.labeledLatLngs</th>\n",
       "      <th>location.distance</th>\n",
       "      <th>location.postalCode</th>\n",
       "      <th>location.cc</th>\n",
       "      <th>location.city</th>\n",
       "      <th>location.state</th>\n",
       "      <th>location.country</th>\n",
       "      <th>location.formattedAddress</th>\n",
       "    </tr>\n",
       "  </thead>\n",
       "  <tbody>\n",
       "    <tr>\n",
       "      <th>0</th>\n",
       "      <td>4cf3ede78333224b0341188e</td>\n",
       "      <td>Villa Fresh Italian Kitchen Asian Chao</td>\n",
       "      <td>[{'id': '4bf58dd8d48988d142941735', 'name': 'A...</td>\n",
       "      <td>v-1608680422</td>\n",
       "      <td>False</td>\n",
       "      <td>18 W Jackson Blvd</td>\n",
       "      <td>41.878390</td>\n",
       "      <td>-87.628335</td>\n",
       "      <td>[{'label': 'display', 'lat': 41.87839, 'lng': ...</td>\n",
       "      <td>452</td>\n",
       "      <td>60604</td>\n",
       "      <td>US</td>\n",
       "      <td>Chicago</td>\n",
       "      <td>IL</td>\n",
       "      <td>United States</td>\n",
       "      <td>[18 W Jackson Blvd, Chicago, IL 60604, United ...</td>\n",
       "    </tr>\n",
       "    <tr>\n",
       "      <th>1</th>\n",
       "      <td>5398b267498e07c1344e362e</td>\n",
       "      <td>Al's Beef</td>\n",
       "      <td>[{'id': '4bf58dd8d48988d16f941735', 'name': 'H...</td>\n",
       "      <td>v-1608680422</td>\n",
       "      <td>False</td>\n",
       "      <td>601 W Adams St</td>\n",
       "      <td>41.878396</td>\n",
       "      <td>-87.625985</td>\n",
       "      <td>[{'label': 'display', 'lat': 41.87839594445686...</td>\n",
       "      <td>341</td>\n",
       "      <td>60661</td>\n",
       "      <td>US</td>\n",
       "      <td>Chicago</td>\n",
       "      <td>IL</td>\n",
       "      <td>United States</td>\n",
       "      <td>[601 W Adams St, Chicago, IL 60661, United Sta...</td>\n",
       "    </tr>\n",
       "  </tbody>\n",
       "</table>\n",
       "</div>"
      ],
      "text/plain": [
       "                         id                                    name  \\\n",
       "0  4cf3ede78333224b0341188e  Villa Fresh Italian Kitchen Asian Chao   \n",
       "1  5398b267498e07c1344e362e                               Al's Beef   \n",
       "\n",
       "                                          categories    referralId  hasPerk  \\\n",
       "0  [{'id': '4bf58dd8d48988d142941735', 'name': 'A...  v-1608680422    False   \n",
       "1  [{'id': '4bf58dd8d48988d16f941735', 'name': 'H...  v-1608680422    False   \n",
       "\n",
       "    location.address  location.lat  location.lng  \\\n",
       "0  18 W Jackson Blvd     41.878390    -87.628335   \n",
       "1     601 W Adams St     41.878396    -87.625985   \n",
       "\n",
       "                             location.labeledLatLngs  location.distance  \\\n",
       "0  [{'label': 'display', 'lat': 41.87839, 'lng': ...                452   \n",
       "1  [{'label': 'display', 'lat': 41.87839594445686...                341   \n",
       "\n",
       "  location.postalCode location.cc location.city location.state  \\\n",
       "0               60604          US       Chicago             IL   \n",
       "1               60661          US       Chicago             IL   \n",
       "\n",
       "  location.country                          location.formattedAddress  \n",
       "0    United States  [18 W Jackson Blvd, Chicago, IL 60604, United ...  \n",
       "1    United States  [601 W Adams St, Chicago, IL 60661, United Sta...  "
      ]
     },
     "execution_count": 15,
     "metadata": {},
     "output_type": "execute_result"
    }
   ],
   "source": [
    "venues = results['response']['venues']\n",
    "dataframe = json_normalize(venues)\n",
    "dataframe.head()"
   ]
  },
  {
   "cell_type": "code",
   "execution_count": 16,
   "metadata": {},
   "outputs": [
    {
     "data": {
      "text/html": [
       "<div>\n",
       "<style scoped>\n",
       "    .dataframe tbody tr th:only-of-type {\n",
       "        vertical-align: middle;\n",
       "    }\n",
       "\n",
       "    .dataframe tbody tr th {\n",
       "        vertical-align: top;\n",
       "    }\n",
       "\n",
       "    .dataframe thead th {\n",
       "        text-align: right;\n",
       "    }\n",
       "</style>\n",
       "<table border=\"1\" class=\"dataframe\">\n",
       "  <thead>\n",
       "    <tr style=\"text-align: right;\">\n",
       "      <th></th>\n",
       "      <th>id</th>\n",
       "      <th>name</th>\n",
       "      <th>categories</th>\n",
       "      <th>referralId</th>\n",
       "      <th>hasPerk</th>\n",
       "      <th>location.address</th>\n",
       "      <th>location.lat</th>\n",
       "      <th>location.lng</th>\n",
       "      <th>location.labeledLatLngs</th>\n",
       "      <th>location.distance</th>\n",
       "      <th>location.postalCode</th>\n",
       "      <th>location.cc</th>\n",
       "      <th>location.city</th>\n",
       "      <th>location.state</th>\n",
       "      <th>location.country</th>\n",
       "      <th>location.formattedAddress</th>\n",
       "    </tr>\n",
       "  </thead>\n",
       "  <tbody>\n",
       "    <tr>\n",
       "      <th>0</th>\n",
       "      <td>4cf3ede78333224b0341188e</td>\n",
       "      <td>Villa Fresh Italian Kitchen Asian Chao</td>\n",
       "      <td>[{'id': '4bf58dd8d48988d142941735', 'name': 'A...</td>\n",
       "      <td>v-1608680422</td>\n",
       "      <td>False</td>\n",
       "      <td>18 W Jackson Blvd</td>\n",
       "      <td>41.878390</td>\n",
       "      <td>-87.628335</td>\n",
       "      <td>[{'label': 'display', 'lat': 41.87839, 'lng': ...</td>\n",
       "      <td>452</td>\n",
       "      <td>60604</td>\n",
       "      <td>US</td>\n",
       "      <td>Chicago</td>\n",
       "      <td>IL</td>\n",
       "      <td>United States</td>\n",
       "      <td>[18 W Jackson Blvd, Chicago, IL 60604, United ...</td>\n",
       "    </tr>\n",
       "    <tr>\n",
       "      <th>1</th>\n",
       "      <td>5398b267498e07c1344e362e</td>\n",
       "      <td>Al's Beef</td>\n",
       "      <td>[{'id': '4bf58dd8d48988d16f941735', 'name': 'H...</td>\n",
       "      <td>v-1608680422</td>\n",
       "      <td>False</td>\n",
       "      <td>601 W Adams St</td>\n",
       "      <td>41.878396</td>\n",
       "      <td>-87.625985</td>\n",
       "      <td>[{'label': 'display', 'lat': 41.87839594445686...</td>\n",
       "      <td>341</td>\n",
       "      <td>60661</td>\n",
       "      <td>US</td>\n",
       "      <td>Chicago</td>\n",
       "      <td>IL</td>\n",
       "      <td>United States</td>\n",
       "      <td>[601 W Adams St, Chicago, IL 60661, United Sta...</td>\n",
       "    </tr>\n",
       "  </tbody>\n",
       "</table>\n",
       "</div>"
      ],
      "text/plain": [
       "                         id                                    name  \\\n",
       "0  4cf3ede78333224b0341188e  Villa Fresh Italian Kitchen Asian Chao   \n",
       "1  5398b267498e07c1344e362e                               Al's Beef   \n",
       "\n",
       "                                          categories    referralId  hasPerk  \\\n",
       "0  [{'id': '4bf58dd8d48988d142941735', 'name': 'A...  v-1608680422    False   \n",
       "1  [{'id': '4bf58dd8d48988d16f941735', 'name': 'H...  v-1608680422    False   \n",
       "\n",
       "    location.address  location.lat  location.lng  \\\n",
       "0  18 W Jackson Blvd     41.878390    -87.628335   \n",
       "1     601 W Adams St     41.878396    -87.625985   \n",
       "\n",
       "                             location.labeledLatLngs  location.distance  \\\n",
       "0  [{'label': 'display', 'lat': 41.87839, 'lng': ...                452   \n",
       "1  [{'label': 'display', 'lat': 41.87839594445686...                341   \n",
       "\n",
       "  location.postalCode location.cc location.city location.state  \\\n",
       "0               60604          US       Chicago             IL   \n",
       "1               60661          US       Chicago             IL   \n",
       "\n",
       "  location.country                          location.formattedAddress  \n",
       "0    United States  [18 W Jackson Blvd, Chicago, IL 60604, United ...  \n",
       "1    United States  [601 W Adams St, Chicago, IL 60661, United Sta...  "
      ]
     },
     "execution_count": 16,
     "metadata": {},
     "output_type": "execute_result"
    }
   ],
   "source": [
    "dataframe.head(10)"
   ]
  },
  {
   "cell_type": "code",
   "execution_count": 18,
   "metadata": {
    "scrolled": true
   },
   "outputs": [
    {
     "data": {
      "text/plain": [
       "0    41.878390\n",
       "1    41.878396\n",
       "Name: location.lat, dtype: float64"
      ]
     },
     "execution_count": 18,
     "metadata": {},
     "output_type": "execute_result"
    }
   ],
   "source": [
    "dataframe[\"location.lat\"]"
   ]
  },
  {
   "cell_type": "code",
   "execution_count": 25,
   "metadata": {},
   "outputs": [],
   "source": [
    "for lat, lon, name in zip(dataframe[\"location.lat\"],dataframe[\"location.lng\"],dataframe[\"name\"]):\n",
    "    folium.CircleMarker(\n",
    "    [lat,lon],\n",
    "    radius=5,\n",
    "    color='blue',\n",
    "    popup=name,\n",
    "    fill = True,\n",
    "    fill_color='blue',\n",
    "    fill_opacity=0.6,\n",
    "    ).add_to(map_chicago)"
   ]
  },
  {
   "cell_type": "code",
   "execution_count": 26,
   "metadata": {},
   "outputs": [
    {
     "data": {
      "text/html": [
       "<div style=\"width:100%;\"><div style=\"position:relative;width:100%;height:0;padding-bottom:60%;\"><span style=\"color:#565656\">Make this Notebook Trusted to load map: File -> Trust Notebook</span><iframe src=\"about:blank\" style=\"position:absolute;width:100%;height:100%;left:0;top:0;border:none !important;\" data-html=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 onload=\"this.contentDocument.open();this.contentDocument.write(atob(this.getAttribute('data-html')));this.contentDocument.close();\" allowfullscreen webkitallowfullscreen mozallowfullscreen></iframe></div></div>"
      ],
      "text/plain": [
       "<folium.folium.Map at 0x1fef2203040>"
      ]
     },
     "execution_count": 26,
     "metadata": {},
     "output_type": "execute_result"
    }
   ],
   "source": [
    "map_chicago"
   ]
  },
  {
   "cell_type": "code",
   "execution_count": null,
   "metadata": {},
   "outputs": [],
   "source": []
  }
 ],
 "metadata": {
  "kernelspec": {
   "display_name": "Python 3",
   "language": "python",
   "name": "python3"
  },
  "language_info": {
   "codemirror_mode": {
    "name": "ipython",
    "version": 3
   },
   "file_extension": ".py",
   "mimetype": "text/x-python",
   "name": "python",
   "nbconvert_exporter": "python",
   "pygments_lexer": "ipython3",
   "version": "3.8.5"
  }
 },
 "nbformat": 4,
 "nbformat_minor": 4
}
